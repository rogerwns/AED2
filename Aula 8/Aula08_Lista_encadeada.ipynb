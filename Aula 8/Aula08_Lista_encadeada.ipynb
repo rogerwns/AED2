{
 "cells": [
  {
   "cell_type": "markdown",
   "metadata": {},
   "source": [
    "![Algoritmos e Estrutura de Dados II - Prof Piva](AED2_banner.jpg)"
   ]
  },
  {
   "cell_type": "markdown",
   "metadata": {},
   "source": [
    "## Aula 8 - Listas Encadeadas"
   ]
  },
  {
   "cell_type": "markdown",
   "metadata": {},
   "source": [
    "#### Definindo a Classe Nó (Node)"
   ]
  },
  {
   "cell_type": "code",
   "execution_count": 1,
   "metadata": {},
   "outputs": [],
   "source": [
    "class Node:\n",
    "    # Construtor\n",
    "    def __init__(self, init_data):\n",
    "        self.__data = init_data\n",
    "        self.__next = None # inicialmente não aponta para ninguém\n",
    "    \n",
    "    # Obtém o dado armazenado\n",
    "    def get_data(self):\n",
    "        return self.__data\n",
    "    \n",
    "    # Retorna o próximo elemento (para que nó aponta)\n",
    "    def get_next(self):\n",
    "        return self.__next\n",
    "\n",
    "    # Armazena uma nova informação (atualiza dados)\n",
    "    def set_data(self, new_data):\n",
    "        self.__data = new_data\n",
    "\n",
    "    # Aponta o nó para outro nó\n",
    "    def set_next(self, new_next):\n",
    "        self.__next = new_next"
   ]
  },
  {
   "cell_type": "code",
   "execution_count": 2,
   "metadata": {},
   "outputs": [],
   "source": [
    "# Assim podemos criar um nó da seguinte forma:\n",
    "temp = Node(93)"
   ]
  },
  {
   "cell_type": "code",
   "execution_count": 3,
   "metadata": {},
   "outputs": [
    {
     "data": {
      "text/plain": [
       "93"
      ]
     },
     "execution_count": 3,
     "metadata": {},
     "output_type": "execute_result"
    }
   ],
   "source": [
    "# consultarmos o valor armazenado nesse nó com:\n",
    "temp.get_data()"
   ]
  },
  {
   "cell_type": "markdown",
   "metadata": {},
   "source": [
    "O nó criado acima ficaria da seguinte forma..."
   ]
  },
  {
   "cell_type": "markdown",
   "metadata": {},
   "source": [
    "![o no criado: temp](no.jpg)"
   ]
  },
  {
   "cell_type": "markdown",
   "metadata": {},
   "source": [
    "### Listas encadeadas não-ordenadas"
   ]
  },
  {
   "cell_type": "code",
   "execution_count": 48,
   "metadata": {},
   "outputs": [],
   "source": [
    "# Implementa a classe UnorderedList\n",
    "# (Lista encadeada não ordenada)\n",
    "class UnorderedList:\n",
    "    # Construtor (aponta cabeça da lista para None)\n",
    "    def __init__(self):\n",
    "        self.head = None\n",
    "\n",
    "    # Verifica se lista está vazia\n",
    "    def is_empty(self):\n",
    "        return self.head == None\n",
    "    \n",
    "    # Adiciona elemento no início da lista\n",
    "    def add_head(self, item):\n",
    "        # Cria novo nó\n",
    "        temp = Node(item)\n",
    "        # Aponta novo nó para cabeça da lista\n",
    "        temp.set_next(self.head)\n",
    "        # Atualiza a cabeça da lista\n",
    "        self.head = temp\n",
    "    \n",
    "    # Adiciona elemento no final da lista\n",
    "    def add_tail(self, item):\n",
    "        # Cria novo nó\n",
    "        tail = Node(item)\n",
    "        # Usa referência temporária para percorer lista (inicio=cabeça)\n",
    "        temp = self.head\n",
    "        # Percorre a lista até o último elemento\n",
    "        while temp.next != None:\n",
    "            temp = temp.next\n",
    "        # Aponta tail (ultimo elemento) para novo nó\n",
    "        temp.set_next(tail)\n",
    "    \n",
    "    # Imprime elementos da lista\n",
    "    def print_list(self):\n",
    "        # Aponta referência para cabeça\n",
    "        temp = self.head\n",
    "        X = []\n",
    "        # Percorre lista adicionando elementos em X\n",
    "        while temp != None:\n",
    "            X.append(temp.data)\n",
    "            temp = temp.get_next()\n",
    "        return X\n",
    "    \n",
    "    # Calcula o número de elementos na lista\n",
    "    def size(self):\n",
    "        # Aponta para cabeça da lista\n",
    "        temp = self.head\n",
    "        count = 0\n",
    "        # Percorre lista contando elementos\n",
    "        while temp != None:\n",
    "            count = count + 1\n",
    "            temp = temp.get_next()\n",
    "        return count\n",
    "    \n",
    "    # Busca pelo elemento na lista\n",
    "    def search(self,item):\n",
    "        # Inicia na cabeça da lista\n",
    "        temp = self.head\n",
    "        found = False\n",
    "        # Percorre a lista até achar elemento u chegar no final\n",
    "        while temp != None and not found:\n",
    "            # Se achar atual nó contém elemento, found == True\n",
    "            if temp.get_data() == item:\n",
    "                found = True\n",
    "            else:\n",
    "                # Senão, aponta para o sucessor\n",
    "                temp = temp.get_next()\n",
    "        return found\n",
    "    \n",
    "    # Remove um nó da lista encadeada\n",
    "    def remove(self, item):\n",
    "        # Aponta a referência corrente para cabeça de L\n",
    "        current = self.head\n",
    "        # Aponta referência previous para None\n",
    "        previous = None\n",
    "        found = False\n",
    "        # Enquanto não encontrar o valor a ser removido\n",
    "        while not found:\n",
    "            # Se nó corrente armazena o item desejado, encontrou\n",
    "            if current.get_data() == item:\n",
    "                found = True\n",
    "            else:\n",
    "                # Se no corrente não é o que buscamos\n",
    "                # Atualiza o previous e o corrente\n",
    "                previous = current\n",
    "                current = current.get_next()\n",
    "        # Se nó a ser removido for o primeiro da lista\n",
    "        # Altera a cabeça da lista\n",
    "        if previous == None:\n",
    "            self.head = current.get_next()\n",
    "        else:\n",
    "            # Caso não seja primeiro nó, liga o previous com o próximo\n",
    "            previous.set_next(current.get_next())\n",
    "        # Desliga nó corrente\n",
    "        current.set_next(None)"
   ]
  },
  {
   "cell_type": "markdown",
   "metadata": {},
   "source": [
    "#### Testando a implementação"
   ]
  },
  {
   "cell_type": "code",
   "execution_count": 49,
   "metadata": {},
   "outputs": [],
   "source": [
    "# Cria lista vazia\n",
    "L = UnorderedList()"
   ]
  },
  {
   "cell_type": "code",
   "execution_count": 50,
   "metadata": {},
   "outputs": [
    {
     "name": "stdout",
     "output_type": "stream",
     "text": [
      "True\n"
     ]
    }
   ],
   "source": [
    "print(L.is_empty())"
   ]
  },
  {
   "cell_type": "code",
   "execution_count": 51,
   "metadata": {},
   "outputs": [
    {
     "ename": "TypeError",
     "evalue": "Node.__init__() missing 2 required positional arguments: 'prev' and 'next'",
     "output_type": "error",
     "traceback": [
      "\u001b[1;31m---------------------------------------------------------------------------\u001b[0m",
      "\u001b[1;31mTypeError\u001b[0m                                 Traceback (most recent call last)",
      "Cell \u001b[1;32mIn[51], line 2\u001b[0m\n\u001b[0;32m      1\u001b[0m \u001b[38;5;66;03m# Insere no início\u001b[39;00m\n\u001b[1;32m----> 2\u001b[0m L\u001b[38;5;241m.\u001b[39madd_head(\u001b[38;5;241m1\u001b[39m)\n",
      "Cell \u001b[1;32mIn[48], line 15\u001b[0m, in \u001b[0;36mUnorderedList.add_head\u001b[1;34m(self, item)\u001b[0m\n\u001b[0;32m     13\u001b[0m \u001b[38;5;28;01mdef\u001b[39;00m \u001b[38;5;21madd_head\u001b[39m(\u001b[38;5;28mself\u001b[39m, item):\n\u001b[0;32m     14\u001b[0m     \u001b[38;5;66;03m# Cria novo nó\u001b[39;00m\n\u001b[1;32m---> 15\u001b[0m     temp \u001b[38;5;241m=\u001b[39m Node(item)\n\u001b[0;32m     16\u001b[0m     \u001b[38;5;66;03m# Aponta novo nó para cabeça da lista\u001b[39;00m\n\u001b[0;32m     17\u001b[0m     temp\u001b[38;5;241m.\u001b[39mset_next(\u001b[38;5;28mself\u001b[39m\u001b[38;5;241m.\u001b[39mhead)\n",
      "\u001b[1;31mTypeError\u001b[0m: Node.__init__() missing 2 required positional arguments: 'prev' and 'next'"
     ]
    }
   ],
   "source": [
    "# Insere no início\n",
    "L.add_head(1)"
   ]
  },
  {
   "cell_type": "code",
   "execution_count": 9,
   "metadata": {},
   "outputs": [],
   "source": [
    "L.add_head(2)"
   ]
  },
  {
   "cell_type": "code",
   "execution_count": 10,
   "metadata": {},
   "outputs": [],
   "source": [
    "L.add_head(3)"
   ]
  },
  {
   "cell_type": "code",
   "execution_count": 11,
   "metadata": {},
   "outputs": [
    {
     "ename": "AttributeError",
     "evalue": "'Node' object has no attribute 'data'",
     "output_type": "error",
     "traceback": [
      "\u001b[1;31m---------------------------------------------------------------------------\u001b[0m",
      "\u001b[1;31mAttributeError\u001b[0m                            Traceback (most recent call last)",
      "Cell \u001b[1;32mIn[11], line 1\u001b[0m\n\u001b[1;32m----> 1\u001b[0m \u001b[38;5;28mprint\u001b[39m(L\u001b[38;5;241m.\u001b[39mprint_list())\n",
      "Cell \u001b[1;32mIn[5], line 40\u001b[0m, in \u001b[0;36mUnorderedList.print_list\u001b[1;34m(self)\u001b[0m\n\u001b[0;32m     38\u001b[0m \u001b[38;5;66;03m# Percorre lista adicionando elementos em X\u001b[39;00m\n\u001b[0;32m     39\u001b[0m \u001b[38;5;28;01mwhile\u001b[39;00m temp \u001b[38;5;241m!=\u001b[39m \u001b[38;5;28;01mNone\u001b[39;00m:\n\u001b[1;32m---> 40\u001b[0m     X\u001b[38;5;241m.\u001b[39mappend(temp\u001b[38;5;241m.\u001b[39mdata)\n\u001b[0;32m     41\u001b[0m     temp \u001b[38;5;241m=\u001b[39m temp\u001b[38;5;241m.\u001b[39mget_next()\n\u001b[0;32m     42\u001b[0m \u001b[38;5;28;01mreturn\u001b[39;00m X\n",
      "\u001b[1;31mAttributeError\u001b[0m: 'Node' object has no attribute 'data'"
     ]
    }
   ],
   "source": [
    "print(L.print_list())"
   ]
  },
  {
   "cell_type": "code",
   "execution_count": 52,
   "metadata": {},
   "outputs": [
    {
     "name": "stdout",
     "output_type": "stream",
     "text": [
      "0\n"
     ]
    }
   ],
   "source": [
    "print(L.size())"
   ]
  },
  {
   "cell_type": "code",
   "execution_count": 53,
   "metadata": {},
   "outputs": [
    {
     "name": "stdout",
     "output_type": "stream",
     "text": [
      "True\n"
     ]
    }
   ],
   "source": [
    "print(L.is_empty())"
   ]
  },
  {
   "cell_type": "code",
   "execution_count": 54,
   "metadata": {},
   "outputs": [
    {
     "ename": "TypeError",
     "evalue": "Node.__init__() missing 2 required positional arguments: 'prev' and 'next'",
     "output_type": "error",
     "traceback": [
      "\u001b[1;31m---------------------------------------------------------------------------\u001b[0m",
      "\u001b[1;31mTypeError\u001b[0m                                 Traceback (most recent call last)",
      "Cell \u001b[1;32mIn[54], line 2\u001b[0m\n\u001b[0;32m      1\u001b[0m \u001b[38;5;66;03m# Insere no final\u001b[39;00m\n\u001b[1;32m----> 2\u001b[0m L\u001b[38;5;241m.\u001b[39madd_tail(\u001b[38;5;241m4\u001b[39m)\n",
      "Cell \u001b[1;32mIn[48], line 24\u001b[0m, in \u001b[0;36mUnorderedList.add_tail\u001b[1;34m(self, item)\u001b[0m\n\u001b[0;32m     22\u001b[0m \u001b[38;5;28;01mdef\u001b[39;00m \u001b[38;5;21madd_tail\u001b[39m(\u001b[38;5;28mself\u001b[39m, item):\n\u001b[0;32m     23\u001b[0m     \u001b[38;5;66;03m# Cria novo nó\u001b[39;00m\n\u001b[1;32m---> 24\u001b[0m     tail \u001b[38;5;241m=\u001b[39m Node(item)\n\u001b[0;32m     25\u001b[0m     \u001b[38;5;66;03m# Usa referência temporária para percorer lista (inicio=cabeça)\u001b[39;00m\n\u001b[0;32m     26\u001b[0m     temp \u001b[38;5;241m=\u001b[39m \u001b[38;5;28mself\u001b[39m\u001b[38;5;241m.\u001b[39mhead\n",
      "\u001b[1;31mTypeError\u001b[0m: Node.__init__() missing 2 required positional arguments: 'prev' and 'next'"
     ]
    }
   ],
   "source": [
    "# Insere no final\n",
    "L.add_tail(4)"
   ]
  },
  {
   "cell_type": "code",
   "execution_count": 55,
   "metadata": {},
   "outputs": [
    {
     "ename": "TypeError",
     "evalue": "Node.__init__() missing 2 required positional arguments: 'prev' and 'next'",
     "output_type": "error",
     "traceback": [
      "\u001b[1;31m---------------------------------------------------------------------------\u001b[0m",
      "\u001b[1;31mTypeError\u001b[0m                                 Traceback (most recent call last)",
      "Cell \u001b[1;32mIn[55], line 1\u001b[0m\n\u001b[1;32m----> 1\u001b[0m L\u001b[38;5;241m.\u001b[39madd_tail(\u001b[38;5;241m5\u001b[39m)\n",
      "Cell \u001b[1;32mIn[48], line 24\u001b[0m, in \u001b[0;36mUnorderedList.add_tail\u001b[1;34m(self, item)\u001b[0m\n\u001b[0;32m     22\u001b[0m \u001b[38;5;28;01mdef\u001b[39;00m \u001b[38;5;21madd_tail\u001b[39m(\u001b[38;5;28mself\u001b[39m, item):\n\u001b[0;32m     23\u001b[0m     \u001b[38;5;66;03m# Cria novo nó\u001b[39;00m\n\u001b[1;32m---> 24\u001b[0m     tail \u001b[38;5;241m=\u001b[39m Node(item)\n\u001b[0;32m     25\u001b[0m     \u001b[38;5;66;03m# Usa referência temporária para percorer lista (inicio=cabeça)\u001b[39;00m\n\u001b[0;32m     26\u001b[0m     temp \u001b[38;5;241m=\u001b[39m \u001b[38;5;28mself\u001b[39m\u001b[38;5;241m.\u001b[39mhead\n",
      "\u001b[1;31mTypeError\u001b[0m: Node.__init__() missing 2 required positional arguments: 'prev' and 'next'"
     ]
    }
   ],
   "source": [
    "L.add_tail(5)"
   ]
  },
  {
   "cell_type": "code",
   "execution_count": 56,
   "metadata": {},
   "outputs": [
    {
     "ename": "TypeError",
     "evalue": "Node.__init__() missing 2 required positional arguments: 'prev' and 'next'",
     "output_type": "error",
     "traceback": [
      "\u001b[1;31m---------------------------------------------------------------------------\u001b[0m",
      "\u001b[1;31mTypeError\u001b[0m                                 Traceback (most recent call last)",
      "Cell \u001b[1;32mIn[56], line 1\u001b[0m\n\u001b[1;32m----> 1\u001b[0m L\u001b[38;5;241m.\u001b[39madd_tail(\u001b[38;5;241m6\u001b[39m)\n",
      "Cell \u001b[1;32mIn[48], line 24\u001b[0m, in \u001b[0;36mUnorderedList.add_tail\u001b[1;34m(self, item)\u001b[0m\n\u001b[0;32m     22\u001b[0m \u001b[38;5;28;01mdef\u001b[39;00m \u001b[38;5;21madd_tail\u001b[39m(\u001b[38;5;28mself\u001b[39m, item):\n\u001b[0;32m     23\u001b[0m     \u001b[38;5;66;03m# Cria novo nó\u001b[39;00m\n\u001b[1;32m---> 24\u001b[0m     tail \u001b[38;5;241m=\u001b[39m Node(item)\n\u001b[0;32m     25\u001b[0m     \u001b[38;5;66;03m# Usa referência temporária para percorer lista (inicio=cabeça)\u001b[39;00m\n\u001b[0;32m     26\u001b[0m     temp \u001b[38;5;241m=\u001b[39m \u001b[38;5;28mself\u001b[39m\u001b[38;5;241m.\u001b[39mhead\n",
      "\u001b[1;31mTypeError\u001b[0m: Node.__init__() missing 2 required positional arguments: 'prev' and 'next'"
     ]
    }
   ],
   "source": [
    "L.add_tail(6)"
   ]
  },
  {
   "cell_type": "code",
   "execution_count": null,
   "metadata": {},
   "outputs": [],
   "source": [
    "L.add_tail(12)"
   ]
  },
  {
   "cell_type": "code",
   "execution_count": 12,
   "metadata": {},
   "outputs": [
    {
     "ename": "AttributeError",
     "evalue": "'Node' object has no attribute 'data'",
     "output_type": "error",
     "traceback": [
      "\u001b[1;31m---------------------------------------------------------------------------\u001b[0m",
      "\u001b[1;31mAttributeError\u001b[0m                            Traceback (most recent call last)",
      "Cell \u001b[1;32mIn[12], line 1\u001b[0m\n\u001b[1;32m----> 1\u001b[0m \u001b[38;5;28mprint\u001b[39m(L\u001b[38;5;241m.\u001b[39mprint_list())\n",
      "Cell \u001b[1;32mIn[5], line 40\u001b[0m, in \u001b[0;36mUnorderedList.print_list\u001b[1;34m(self)\u001b[0m\n\u001b[0;32m     38\u001b[0m \u001b[38;5;66;03m# Percorre lista adicionando elementos em X\u001b[39;00m\n\u001b[0;32m     39\u001b[0m \u001b[38;5;28;01mwhile\u001b[39;00m temp \u001b[38;5;241m!=\u001b[39m \u001b[38;5;28;01mNone\u001b[39;00m:\n\u001b[1;32m---> 40\u001b[0m     X\u001b[38;5;241m.\u001b[39mappend(temp\u001b[38;5;241m.\u001b[39mdata)\n\u001b[0;32m     41\u001b[0m     temp \u001b[38;5;241m=\u001b[39m temp\u001b[38;5;241m.\u001b[39mget_next()\n\u001b[0;32m     42\u001b[0m \u001b[38;5;28;01mreturn\u001b[39;00m X\n",
      "\u001b[1;31mAttributeError\u001b[0m: 'Node' object has no attribute 'data'"
     ]
    }
   ],
   "source": [
    "print(L.print_list())"
   ]
  },
  {
   "cell_type": "code",
   "execution_count": 13,
   "metadata": {},
   "outputs": [
    {
     "name": "stdout",
     "output_type": "stream",
     "text": [
      "3\n"
     ]
    }
   ],
   "source": [
    "print(L.size())"
   ]
  },
  {
   "cell_type": "code",
   "execution_count": 14,
   "metadata": {},
   "outputs": [
    {
     "name": "stdout",
     "output_type": "stream",
     "text": [
      "False\n"
     ]
    }
   ],
   "source": [
    "print(L.search(5))"
   ]
  },
  {
   "cell_type": "code",
   "execution_count": 15,
   "metadata": {},
   "outputs": [
    {
     "name": "stdout",
     "output_type": "stream",
     "text": [
      "False\n"
     ]
    }
   ],
   "source": [
    "print(L.search(29))"
   ]
  },
  {
   "cell_type": "code",
   "execution_count": 16,
   "metadata": {},
   "outputs": [
    {
     "ename": "AttributeError",
     "evalue": "'NoneType' object has no attribute 'get_data'",
     "output_type": "error",
     "traceback": [
      "\u001b[1;31m---------------------------------------------------------------------------\u001b[0m",
      "\u001b[1;31mAttributeError\u001b[0m                            Traceback (most recent call last)",
      "Cell \u001b[1;32mIn[16], line 1\u001b[0m\n\u001b[1;32m----> 1\u001b[0m L\u001b[38;5;241m.\u001b[39mremove(\u001b[38;5;241m5\u001b[39m)\n",
      "Cell \u001b[1;32mIn[5], line 80\u001b[0m, in \u001b[0;36mUnorderedList.remove\u001b[1;34m(self, item)\u001b[0m\n\u001b[0;32m     77\u001b[0m \u001b[38;5;66;03m# Enquanto não encontrar o valor a ser removido\u001b[39;00m\n\u001b[0;32m     78\u001b[0m \u001b[38;5;28;01mwhile\u001b[39;00m \u001b[38;5;129;01mnot\u001b[39;00m found:\n\u001b[0;32m     79\u001b[0m     \u001b[38;5;66;03m# Se nó corrente armazena o item desejado, encontrou\u001b[39;00m\n\u001b[1;32m---> 80\u001b[0m     \u001b[38;5;28;01mif\u001b[39;00m current\u001b[38;5;241m.\u001b[39mget_data() \u001b[38;5;241m==\u001b[39m item:\n\u001b[0;32m     81\u001b[0m         found \u001b[38;5;241m=\u001b[39m \u001b[38;5;28;01mTrue\u001b[39;00m\n\u001b[0;32m     82\u001b[0m     \u001b[38;5;28;01melse\u001b[39;00m:\n\u001b[0;32m     83\u001b[0m         \u001b[38;5;66;03m# Se no corrente não é o que buscamos\u001b[39;00m\n\u001b[0;32m     84\u001b[0m         \u001b[38;5;66;03m# Atualiza o previous e o corrente\u001b[39;00m\n",
      "\u001b[1;31mAttributeError\u001b[0m: 'NoneType' object has no attribute 'get_data'"
     ]
    }
   ],
   "source": [
    "L.remove(5)"
   ]
  },
  {
   "cell_type": "code",
   "execution_count": 17,
   "metadata": {},
   "outputs": [
    {
     "ename": "AttributeError",
     "evalue": "'Node' object has no attribute 'data'",
     "output_type": "error",
     "traceback": [
      "\u001b[1;31m---------------------------------------------------------------------------\u001b[0m",
      "\u001b[1;31mAttributeError\u001b[0m                            Traceback (most recent call last)",
      "Cell \u001b[1;32mIn[17], line 1\u001b[0m\n\u001b[1;32m----> 1\u001b[0m \u001b[38;5;28mprint\u001b[39m(L\u001b[38;5;241m.\u001b[39mprint_list())\n",
      "Cell \u001b[1;32mIn[5], line 40\u001b[0m, in \u001b[0;36mUnorderedList.print_list\u001b[1;34m(self)\u001b[0m\n\u001b[0;32m     38\u001b[0m \u001b[38;5;66;03m# Percorre lista adicionando elementos em X\u001b[39;00m\n\u001b[0;32m     39\u001b[0m \u001b[38;5;28;01mwhile\u001b[39;00m temp \u001b[38;5;241m!=\u001b[39m \u001b[38;5;28;01mNone\u001b[39;00m:\n\u001b[1;32m---> 40\u001b[0m     X\u001b[38;5;241m.\u001b[39mappend(temp\u001b[38;5;241m.\u001b[39mdata)\n\u001b[0;32m     41\u001b[0m     temp \u001b[38;5;241m=\u001b[39m temp\u001b[38;5;241m.\u001b[39mget_next()\n\u001b[0;32m     42\u001b[0m \u001b[38;5;28;01mreturn\u001b[39;00m X\n",
      "\u001b[1;31mAttributeError\u001b[0m: 'Node' object has no attribute 'data'"
     ]
    }
   ],
   "source": [
    "print(L.print_list())"
   ]
  },
  {
   "cell_type": "code",
   "execution_count": 18,
   "metadata": {},
   "outputs": [
    {
     "name": "stdout",
     "output_type": "stream",
     "text": [
      "3\n"
     ]
    }
   ],
   "source": [
    "print(L.size())"
   ]
  },
  {
   "cell_type": "markdown",
   "metadata": {},
   "source": [
    "### Listas Encadeadas Ordenadas"
   ]
  },
  {
   "cell_type": "code",
   "execution_count": 19,
   "metadata": {},
   "outputs": [],
   "source": [
    "# Implementa a classe OrderedList\n",
    "# (Lista encadeada ordenada)\n",
    "\n",
    "class OrderedList:\n",
    "    # Construtor (aponta cabeça da lista para None)\n",
    "    def __init__(self):\n",
    "        self.head = None\n",
    "\n",
    "    # Verifica se lista está vazia\n",
    "    def is_empty(self):\n",
    "        return self.head == None\n",
    "    \n",
    "    # Adiciona elemento no início da lista\n",
    "    def add_head(self, item):\n",
    "        # Cria novo nó\n",
    "        temp = Node(item)\n",
    "        # Aponta novo nó para cabeça da lista\n",
    "        temp.set_next(self.head)\n",
    "        # Atualiza a cabeça da lista\n",
    "        self.head = temp\n",
    "    \n",
    "    # Adiciona elemento no final da lista\n",
    "    def add_tail(self, item):\n",
    "        # Cria novo nó\n",
    "        tail = Node(item)\n",
    "        # Usa referência temporária para percorer lista (inicio=cabeça)\n",
    "        temp = self.head\n",
    "        # Percorre a lista até o último elemento\n",
    "        while temp.next != None:\n",
    "            temp = temp.next\n",
    "        # Aponta tail (ultimo elemento) para novo nó\n",
    "        temp.set_next(tail)\n",
    "\n",
    "    # Adiciona elemento na posição correta da lista\n",
    "    def add(self, item):\n",
    "        # Inicia na cabeça da lista\n",
    "        current = self.head\n",
    "        previous = None\n",
    "        stop = False\n",
    "        # Enquanto não chegar no final e não parou\n",
    "        while current != None and not stop:\n",
    "            # Se valor do corrente for maior elemento desejado\n",
    "            # Parar, pois elemento não pertence a lista\n",
    "            if current.get_data() > item:\n",
    "                stop = True\n",
    "            else:\n",
    "                # Senão, move o prévio e o corrente para o próximo\n",
    "                previous = current\n",
    "                current = current.get_next()\n",
    "        # Cria novo nó\n",
    "        temp = Node(item)\n",
    "        # Se for primeiro elemento, prévio = None\n",
    "        if previous == None:\n",
    "            temp.set_next(self.head)\n",
    "            self.head = temp\n",
    "        else:\n",
    "            # Senão, estamnis no meio ou último\n",
    "            temp.set_next(current)\n",
    "            previous.set_next(temp)\n",
    "    \n",
    "    # Imprime elementos da lista\n",
    "    def print_list(self):\n",
    "        # Aponta referência para cabeça\n",
    "        temp = self.head\n",
    "        X = []\n",
    "        # Percorre lista adicionando elementos em X\n",
    "        while temp != None:\n",
    "            X.append(temp.data)\n",
    "            temp = temp.get_next()\n",
    "        return X\n",
    "    \n",
    "    # Calcula o número de elementos na lista\n",
    "    def size(self):\n",
    "        # Aponta para cabeça da lista\n",
    "        temp = self.head\n",
    "        count = 0\n",
    "        # Percorre lista contando elementos\n",
    "        while temp != None:\n",
    "            count = count + 1\n",
    "            temp = temp.get_next()\n",
    "        return count\n",
    "    \n",
    "    # Busca um elemento em uma lista ordenada ou não.\n",
    "    def search(self, item):\n",
    "        # Inicio da lista\n",
    "        current = self.head\n",
    "        found = False\n",
    "        stop = False\n",
    "        # Enquanto não atingir o final da lista e não encontrou e não parou\n",
    "        while current != None and not found and not stop:\n",
    "            # Se nó atual é o elemento, encontrou\n",
    "            if current.get_data() == item:\n",
    "                found = True\n",
    "            else:\n",
    "                # Senão, se elemento atual é maior que valor buscado, pare\n",
    "                if current.get_data() > item:\n",
    "                    stop = True\n",
    "                else:\n",
    "                    # Caso contrário, vai para o próximo\n",
    "                    current = current.get_next()\n",
    "        return found\n",
    "    \n",
    "    # Remove um nó da lista encadeada\n",
    "    def remove(self, item):\n",
    "        # Aponta a referência corrente para cabeça de L\n",
    "        current = self.head\n",
    "        # Aponta referência previous para None\n",
    "        previous = None\n",
    "        found = False\n",
    "        # Enquanto não encontrar o valor a ser removido\n",
    "        while not found:\n",
    "            # Se nó corrente armazena o item desejado, encontrou\n",
    "            if current.get_data() == item:\n",
    "                found = True\n",
    "            else:\n",
    "                # Se no corrente não é o que buscamos\n",
    "                # Atualiza o previous e o corrente\n",
    "                previous = current\n",
    "                current = current.get_next()\n",
    "        # Se nó a ser removido for o primeiro da lista\n",
    "        # Altera a cabeça da lista\n",
    "        if previous == None:\n",
    "            self.head = current.get_next()\n",
    "        else:\n",
    "            # Caso não seja primeiro nó, liga o previous com o próximo\n",
    "            previous.set_next(current.get_next())\n",
    "        # Desliga nó corrente\n",
    "        current.set_next(None)"
   ]
  },
  {
   "cell_type": "markdown",
   "metadata": {},
   "source": [
    "#### Testando a classe OrderedList()"
   ]
  },
  {
   "cell_type": "code",
   "execution_count": 20,
   "metadata": {},
   "outputs": [],
   "source": [
    "# Cria lista vazia\n",
    "L = OrderedList()"
   ]
  },
  {
   "cell_type": "code",
   "execution_count": 21,
   "metadata": {},
   "outputs": [
    {
     "name": "stdout",
     "output_type": "stream",
     "text": [
      "True\n"
     ]
    }
   ],
   "source": [
    "print(L.is_empty())"
   ]
  },
  {
   "cell_type": "code",
   "execution_count": 22,
   "metadata": {},
   "outputs": [],
   "source": [
    "# Insere elementos\n",
    "L.add(1)\n",
    "L.add(4)\n",
    "L.add(3)\n",
    "L.add(12)\n",
    "L.add(5)\n",
    "L.add(8)"
   ]
  },
  {
   "cell_type": "code",
   "execution_count": 23,
   "metadata": {},
   "outputs": [
    {
     "ename": "AttributeError",
     "evalue": "'Node' object has no attribute 'data'",
     "output_type": "error",
     "traceback": [
      "\u001b[1;31m---------------------------------------------------------------------------\u001b[0m",
      "\u001b[1;31mAttributeError\u001b[0m                            Traceback (most recent call last)",
      "Cell \u001b[1;32mIn[23], line 1\u001b[0m\n\u001b[1;32m----> 1\u001b[0m \u001b[38;5;28mprint\u001b[39m(L\u001b[38;5;241m.\u001b[39mprint_list())\n",
      "Cell \u001b[1;32mIn[19], line 68\u001b[0m, in \u001b[0;36mOrderedList.print_list\u001b[1;34m(self)\u001b[0m\n\u001b[0;32m     66\u001b[0m \u001b[38;5;66;03m# Percorre lista adicionando elementos em X\u001b[39;00m\n\u001b[0;32m     67\u001b[0m \u001b[38;5;28;01mwhile\u001b[39;00m temp \u001b[38;5;241m!=\u001b[39m \u001b[38;5;28;01mNone\u001b[39;00m:\n\u001b[1;32m---> 68\u001b[0m     X\u001b[38;5;241m.\u001b[39mappend(temp\u001b[38;5;241m.\u001b[39mdata)\n\u001b[0;32m     69\u001b[0m     temp \u001b[38;5;241m=\u001b[39m temp\u001b[38;5;241m.\u001b[39mget_next()\n\u001b[0;32m     70\u001b[0m \u001b[38;5;28;01mreturn\u001b[39;00m X\n",
      "\u001b[1;31mAttributeError\u001b[0m: 'Node' object has no attribute 'data'"
     ]
    }
   ],
   "source": [
    "print(L.print_list())"
   ]
  },
  {
   "cell_type": "code",
   "execution_count": 24,
   "metadata": {},
   "outputs": [
    {
     "name": "stdout",
     "output_type": "stream",
     "text": [
      "6\n"
     ]
    }
   ],
   "source": [
    "print(L.size())"
   ]
  },
  {
   "cell_type": "code",
   "execution_count": 25,
   "metadata": {},
   "outputs": [
    {
     "name": "stdout",
     "output_type": "stream",
     "text": [
      "False\n"
     ]
    }
   ],
   "source": [
    "print(L.is_empty())"
   ]
  },
  {
   "cell_type": "code",
   "execution_count": 26,
   "metadata": {},
   "outputs": [
    {
     "name": "stdout",
     "output_type": "stream",
     "text": [
      "True\n"
     ]
    }
   ],
   "source": [
    "print(L.search(5))"
   ]
  },
  {
   "cell_type": "code",
   "execution_count": 27,
   "metadata": {},
   "outputs": [
    {
     "name": "stdout",
     "output_type": "stream",
     "text": [
      "False\n"
     ]
    }
   ],
   "source": [
    "print(L.search(29))"
   ]
  },
  {
   "cell_type": "code",
   "execution_count": 28,
   "metadata": {},
   "outputs": [],
   "source": [
    "L.remove(5)"
   ]
  },
  {
   "cell_type": "code",
   "execution_count": 29,
   "metadata": {},
   "outputs": [
    {
     "ename": "AttributeError",
     "evalue": "'Node' object has no attribute 'data'",
     "output_type": "error",
     "traceback": [
      "\u001b[1;31m---------------------------------------------------------------------------\u001b[0m",
      "\u001b[1;31mAttributeError\u001b[0m                            Traceback (most recent call last)",
      "Cell \u001b[1;32mIn[29], line 1\u001b[0m\n\u001b[1;32m----> 1\u001b[0m \u001b[38;5;28mprint\u001b[39m(L\u001b[38;5;241m.\u001b[39mprint_list())\n",
      "Cell \u001b[1;32mIn[19], line 68\u001b[0m, in \u001b[0;36mOrderedList.print_list\u001b[1;34m(self)\u001b[0m\n\u001b[0;32m     66\u001b[0m \u001b[38;5;66;03m# Percorre lista adicionando elementos em X\u001b[39;00m\n\u001b[0;32m     67\u001b[0m \u001b[38;5;28;01mwhile\u001b[39;00m temp \u001b[38;5;241m!=\u001b[39m \u001b[38;5;28;01mNone\u001b[39;00m:\n\u001b[1;32m---> 68\u001b[0m     X\u001b[38;5;241m.\u001b[39mappend(temp\u001b[38;5;241m.\u001b[39mdata)\n\u001b[0;32m     69\u001b[0m     temp \u001b[38;5;241m=\u001b[39m temp\u001b[38;5;241m.\u001b[39mget_next()\n\u001b[0;32m     70\u001b[0m \u001b[38;5;28;01mreturn\u001b[39;00m X\n",
      "\u001b[1;31mAttributeError\u001b[0m: 'Node' object has no attribute 'data'"
     ]
    }
   ],
   "source": [
    "print(L.print_list())"
   ]
  },
  {
   "cell_type": "code",
   "execution_count": 30,
   "metadata": {},
   "outputs": [
    {
     "name": "stdout",
     "output_type": "stream",
     "text": [
      "5\n"
     ]
    }
   ],
   "source": [
    "print(L.size())"
   ]
  },
  {
   "cell_type": "markdown",
   "metadata": {},
   "source": [
    "### Listas Duplamente Ordenadas"
   ]
  },
  {
   "cell_type": "code",
   "execution_count": 31,
   "metadata": {},
   "outputs": [],
   "source": [
    "class Node:\n",
    "    # Construtor\n",
    "    def __init__(self, init_data, prev, next):\n",
    "        self.data = init_data\n",
    "        self.prev = prev # inicialmente não aponta para ninguém\n",
    "        self.next = next\n",
    "        \n",
    "    # Obtém o dado armazenado\n",
    "    def get_data(self):\n",
    "        return self.data\n",
    "    \n",
    "    # Atualiza dado armazenado\n",
    "    def set_data(self, new_data):\n",
    "        self.data = new_data"
   ]
  },
  {
   "cell_type": "code",
   "execution_count": 32,
   "metadata": {},
   "outputs": [],
   "source": [
    "# Implementa a classe UnorderedList (Lista encadeada não ordenada)\n",
    "class DoubleList:\n",
    "    # Construtor (aponta cabeça da lista para None)\n",
    "    def __init__(self):\n",
    "        # Cria nós iniciais e finais\n",
    "        self.header = Node(None, None, None)\n",
    "        self.trailer = Node(None, None, None)\n",
    "        # trailer é no final\n",
    "        self.header.next = self.trailer\n",
    "        # header é no início\n",
    "        self.trailer.prev = self.header\n",
    "        self.size = 0\n",
    "\n",
    "    # Verifica se lista está vazia\n",
    "    def is_empty(self):\n",
    "        return self.size == 0\n",
    "    \n",
    "    # Retorna o número de elementos na lista (função len)\n",
    "    def __len__(self):\n",
    "        return self.size\n",
    "    \n",
    "    # Insere novo nó entre dois nós existentes\n",
    "    def insert_between(self, item, predecessor, successor):\n",
    "        newest = Node(item, predecessor, successor)\n",
    "        predecessor.next = newest\n",
    "        successor.prev = newest\n",
    "        newest.prev = predecessor\n",
    "        newest.next = successor\n",
    "        self.size += 1\n",
    "        return newest\n",
    "    \n",
    "    # Remove um nó intermediário da lista\n",
    "    # Header e trailer nunca podem ser removidos!\n",
    "    def delete_node(self, node):\n",
    "        predecessor = node.prev\n",
    "        successor = node.next\n",
    "        predecessor.next = successor\n",
    "        successor.prev = predecessor\n",
    "        self.size -= 1\n",
    "        # Armazena o elemento removido\n",
    "        element = node.data\n",
    "        node.prev = node.next = node.element = None\n",
    "        return element\n",
    "    \n",
    "    # Insere elemento no início\n",
    "    def insert_first(self, data):\n",
    "        # nó deve entrar entre header e header.next\n",
    "        self.insert_between(data, self.header, self.header.next)\n",
    "\n",
    "    # Insere elemento no final\n",
    "    def insert_last(self, data):\n",
    "        # nó deve entrar entre trailer.prev e trailer\n",
    "        self.insert_between(data, self.trailer.prev, self.trailer)\n",
    "\n",
    "    # Remove elemento no início\n",
    "    def delete_first(self):\n",
    "        if self.is_empty():\n",
    "            raise Empty('Lista está vazia!')\n",
    "        return self.delete_node(self.header.next)\n",
    "    \n",
    "    # Remove elemento no final\n",
    "    def delete_last(self):\n",
    "        if self.is_empty():\n",
    "            raise Empty('Lista está vazia!')\n",
    "        return self.delete_node(self.trailer.prev)\n",
    "\n",
    "    # Imprime elementos da lista\n",
    "    def print_list(self):\n",
    "        # Aponta referência para cabeça\n",
    "        temp = self.header.next\n",
    "        X = []\n",
    "        # Percorre lista adicionando elementos em X\n",
    "        while temp.next != None:\n",
    "            X.append(temp.data)\n",
    "            temp = temp.next\n",
    "        return X"
   ]
  },
  {
   "cell_type": "code",
   "execution_count": 33,
   "metadata": {},
   "outputs": [],
   "source": [
    "# Cria lista vazia\n",
    "L = DoubleList()"
   ]
  },
  {
   "cell_type": "code",
   "execution_count": 34,
   "metadata": {},
   "outputs": [
    {
     "name": "stdout",
     "output_type": "stream",
     "text": [
      "True\n"
     ]
    }
   ],
   "source": [
    "print(L.is_empty())"
   ]
  },
  {
   "cell_type": "code",
   "execution_count": 35,
   "metadata": {},
   "outputs": [],
   "source": [
    "# Insere no início\n",
    "L.insert_first(1)\n",
    "L.insert_first(2)\n",
    "L.insert_first(3)"
   ]
  },
  {
   "cell_type": "code",
   "execution_count": 36,
   "metadata": {},
   "outputs": [
    {
     "name": "stdout",
     "output_type": "stream",
     "text": [
      "[3, 2, 1]\n"
     ]
    }
   ],
   "source": [
    "print(L.print_list())"
   ]
  },
  {
   "cell_type": "code",
   "execution_count": 37,
   "metadata": {},
   "outputs": [
    {
     "name": "stdout",
     "output_type": "stream",
     "text": [
      "3\n"
     ]
    }
   ],
   "source": [
    "print(len(L))"
   ]
  },
  {
   "cell_type": "code",
   "execution_count": 38,
   "metadata": {},
   "outputs": [
    {
     "name": "stdout",
     "output_type": "stream",
     "text": [
      "False\n"
     ]
    }
   ],
   "source": [
    "print(L.is_empty())"
   ]
  },
  {
   "cell_type": "code",
   "execution_count": 39,
   "metadata": {},
   "outputs": [],
   "source": [
    "# Insere no final\n",
    "L.insert_last(4)\n",
    "L.insert_last(5)\n",
    "L.insert_last(6)"
   ]
  },
  {
   "cell_type": "code",
   "execution_count": 40,
   "metadata": {},
   "outputs": [
    {
     "name": "stdout",
     "output_type": "stream",
     "text": [
      "[3, 2, 1, 4, 5, 6]\n"
     ]
    }
   ],
   "source": [
    "print(L.print_list())"
   ]
  },
  {
   "cell_type": "code",
   "execution_count": 41,
   "metadata": {},
   "outputs": [
    {
     "name": "stdout",
     "output_type": "stream",
     "text": [
      "6\n"
     ]
    }
   ],
   "source": [
    "print(len(L))"
   ]
  },
  {
   "cell_type": "code",
   "execution_count": 42,
   "metadata": {},
   "outputs": [
    {
     "data": {
      "text/plain": [
       "3"
      ]
     },
     "execution_count": 42,
     "metadata": {},
     "output_type": "execute_result"
    }
   ],
   "source": [
    "L.delete_first()"
   ]
  },
  {
   "cell_type": "code",
   "execution_count": 43,
   "metadata": {},
   "outputs": [
    {
     "name": "stdout",
     "output_type": "stream",
     "text": [
      "[2, 1, 4, 5, 6]\n"
     ]
    }
   ],
   "source": [
    "print(L.print_list())"
   ]
  },
  {
   "cell_type": "code",
   "execution_count": 44,
   "metadata": {},
   "outputs": [
    {
     "name": "stdout",
     "output_type": "stream",
     "text": [
      "5\n"
     ]
    }
   ],
   "source": [
    "print(len(L))"
   ]
  },
  {
   "cell_type": "code",
   "execution_count": 45,
   "metadata": {},
   "outputs": [
    {
     "data": {
      "text/plain": [
       "6"
      ]
     },
     "execution_count": 45,
     "metadata": {},
     "output_type": "execute_result"
    }
   ],
   "source": [
    "L.delete_last()"
   ]
  },
  {
   "cell_type": "code",
   "execution_count": 46,
   "metadata": {},
   "outputs": [
    {
     "name": "stdout",
     "output_type": "stream",
     "text": [
      "[2, 1, 4, 5]\n"
     ]
    }
   ],
   "source": [
    "print(L.print_list())"
   ]
  },
  {
   "cell_type": "code",
   "execution_count": 47,
   "metadata": {},
   "outputs": [
    {
     "name": "stdout",
     "output_type": "stream",
     "text": [
      "4\n"
     ]
    }
   ],
   "source": [
    "print(len(L))"
   ]
  },
  {
   "cell_type": "markdown",
   "metadata": {},
   "source": [
    "## Fim da Aula 8"
   ]
  },
  {
   "cell_type": "code",
   "execution_count": null,
   "metadata": {},
   "outputs": [],
   "source": []
  }
 ],
 "metadata": {
  "colab": {
   "provenance": []
  },
  "kernelspec": {
   "display_name": "Python 3 (ipykernel)",
   "language": "python",
   "name": "python3"
  },
  "language_info": {
   "codemirror_mode": {
    "name": "ipython",
    "version": 3
   },
   "file_extension": ".py",
   "mimetype": "text/x-python",
   "name": "python",
   "nbconvert_exporter": "python",
   "pygments_lexer": "ipython3",
   "version": "3.12.4"
  }
 },
 "nbformat": 4,
 "nbformat_minor": 4
}

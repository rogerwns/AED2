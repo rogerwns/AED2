{
 "cells": [
  {
   "cell_type": "markdown",
   "metadata": {},
   "source": [
    "![Algoritmos e Estrutura de Dados II - Prof Piva](AED2_banner.jpg)"
   ]
  },
  {
   "cell_type": "markdown",
   "metadata": {
    "id": "r2ZZwVzmSD9w"
   },
   "source": [
    "## Aulas 17 - Tabela Hash ou Tabela de Dispersão"
   ]
  },
  {
   "cell_type": "markdown",
   "metadata": {},
   "source": [
    "![Imagem Tabela Hash](hash.jpg)"
   ]
  },
  {
   "cell_type": "markdown",
   "metadata": {},
   "source": [
    "Função `hash()` em Pyhton..."
   ]
  },
  {
   "cell_type": "code",
   "execution_count": 5,
   "metadata": {
    "id": "rGIHqLD8WcrS"
   },
   "outputs": [
    {
     "name": "stdout",
     "output_type": "stream",
     "text": [
      "-5986641210068151483\n"
     ]
    }
   ],
   "source": [
    "# Exemplo de string\n",
    "print(hash(\"abc\"))"
   ]
  },
  {
   "cell_type": "code",
   "execution_count": 6,
   "metadata": {},
   "outputs": [
    {
     "name": "stdout",
     "output_type": "stream",
     "text": [
      "-4787113322705975440\n"
     ]
    }
   ],
   "source": [
    "# Exemplo de string numérica\n",
    "print(hash(\"123\"))"
   ]
  },
  {
   "cell_type": "code",
   "execution_count": 7,
   "metadata": {},
   "outputs": [
    {
     "name": "stdout",
     "output_type": "stream",
     "text": [
      "45\n"
     ]
    }
   ],
   "source": [
    "# Exemplo de inteiro\n",
    "print(hash(45))"
   ]
  },
  {
   "cell_type": "code",
   "execution_count": 8,
   "metadata": {},
   "outputs": [
    {
     "name": "stdout",
     "output_type": "stream",
     "text": [
      "45\n"
     ]
    }
   ],
   "source": [
    "# Exemplo de número de ponto flutuante\n",
    "print(hash(45.0))"
   ]
  },
  {
   "cell_type": "code",
   "execution_count": 9,
   "metadata": {},
   "outputs": [
    {
     "name": "stdout",
     "output_type": "stream",
     "text": [
      "691752902764101677\n"
     ]
    }
   ],
   "source": [
    "# Exemplo de outro número de ponto flutuante\n",
    "print(hash(45.3))"
   ]
  },
  {
   "cell_type": "code",
   "execution_count": 10,
   "metadata": {},
   "outputs": [
    {
     "name": "stdout",
     "output_type": "stream",
     "text": [
      "1\n"
     ]
    }
   ],
   "source": [
    "# Exemplo de booleano True\n",
    "print(hash(True))"
   ]
  },
  {
   "cell_type": "code",
   "execution_count": 11,
   "metadata": {},
   "outputs": [
    {
     "name": "stdout",
     "output_type": "stream",
     "text": [
      "0\n"
     ]
    }
   ],
   "source": [
    "# Exemplo de booleano False\n",
    "print(hash(False))"
   ]
  },
  {
   "cell_type": "code",
   "execution_count": 14,
   "metadata": {},
   "outputs": [
    {
     "name": "stdout",
     "output_type": "stream",
     "text": [
      "unhashable type: 'list'\n"
     ]
    }
   ],
   "source": [
    "try:\n",
    "    # Exemplo de lista (imutável)\n",
    "    print(hash([1, 2, 3]))\n",
    "except TypeError as e:\n",
    "    print(e)"
   ]
  },
  {
   "cell_type": "markdown",
   "metadata": {},
   "source": [
    "#### Definindo a Classe HashSet"
   ]
  },
  {
   "cell_type": "code",
   "execution_count": 15,
   "metadata": {},
   "outputs": [],
   "source": [
    "class HashSet:\n",
    "    class __Placeholder:\n",
    "        def __init__(self):\n",
    "            pass\n",
    "\n",
    "        def __eq__(self, other):\n",
    "            return False\n",
    "\n",
    "    def __init__(self, contents=[]):\n",
    "        \"\"\"\n",
    "        Inicializa a tabela hash.\n",
    "\n",
    "        :param contents: lista opcional de itens para inicializar o HashSet\n",
    "        \"\"\"\n",
    "        self.items = [None] * 10  # Inicializa a lista com 10 posições, todas definidas como None\n",
    "        self.numItems = 0  # Inicializa o contador de itens com 0\n",
    "        for item in contents:\n",
    "            self.add(item)  # Adiciona os itens iniciais ao conjunto"
   ]
  },
  {
   "cell_type": "markdown",
   "metadata": {},
   "source": [
    "No código acima, a classe **__Placeholder** é definida dentro da classe HashSet. \n",
    "\n",
    "O **__Placeholder** é usado para marcar posições que foram liberadas por remoções, mas que precisam ser ignoradas durante a inserção de novos elementos.\n",
    "\n",
    "O método **__init__** cria uma lista com 10 posições, todas inicialmente definidas como None, e um contador de itens numItems que começa em 0. \n",
    "\n",
    "O laço for percorre os itens fornecidos na lista contents e os adiciona ao conjunto usando o **método add**, que implementaremos a seguir."
   ]
  },
  {
   "cell_type": "code",
   "execution_count": 16,
   "metadata": {},
   "outputs": [],
   "source": [
    "class HashSet:\n",
    "    class __Placeholder:\n",
    "        def __init__(self):\n",
    "            pass\n",
    "\n",
    "        def __eq__(self, other):\n",
    "            return False\n",
    "\n",
    "    def __init__(self, contents=[]):\n",
    "        \"\"\"\n",
    "        Inicializa a tabela hash.\n",
    "\n",
    "        :param contents: lista opcional de itens para inicializar o HashSet\n",
    "        \"\"\"\n",
    "        self.items = [None] * 10  # Inicializa a lista com 10 posições, todas definidas como None\n",
    "        self.numItems = 0  # Inicializa o contador de itens com 0\n",
    "        for item in contents:\n",
    "            self.add(item)  # Adiciona os itens iniciais ao conjunto\n",
    "\n",
    "    def add(self, item):\n",
    "        \"\"\"\n",
    "        Adiciona um item à tabela hash.\n",
    "        \n",
    "        :param item: item a ser adicionado\n",
    "        \"\"\"\n",
    "        if self.__add(item, self.items):\n",
    "            self.numItems += 1\n",
    "            load = self.numItems / len(self.items)\n",
    "            if load >= 0.75:\n",
    "                self.items = self.__rehash(self.items, [None] * 2 * len(self.items))"
   ]
  },
  {
   "cell_type": "markdown",
   "metadata": {},
   "source": [
    "O método **add** insere um item na tabela hash. \n",
    "\n",
    "Primeiro, calcula-se o índice na lista usando o código hash do item. Se a posição está vazia (None), o item é inserido diretamente. Se não, é necessário lidar com colisões.\n",
    "\n",
    "Aqui, o método add chama a função **__add** para inserir o item. Se o item é inserido com sucesso, incrementamos o contador numItems. Se a taxa de ocupação (load factor) exceder 75%, refazemos o hash da lista para o dobro do tamanho atual.\n",
    "\n",
    "**Função Estática de Adição (add)**\n",
    "\n",
    "A função estática __add insere um item em uma lista de itens, lidando com colisões usando *linear probing*.\n"
   ]
  },
  {
   "cell_type": "code",
   "execution_count": 17,
   "metadata": {},
   "outputs": [],
   "source": [
    "class HashSet:\n",
    "    class __Placeholder:\n",
    "        def __init__(self):\n",
    "            pass\n",
    "\n",
    "        def __eq__(self, other):\n",
    "            return False\n",
    "\n",
    "    def __init__(self, contents=[]):\n",
    "        \"\"\"\n",
    "        Inicializa a tabela hash.\n",
    "\n",
    "        :param contents: lista opcional de itens para inicializar o HashSet\n",
    "        \"\"\"\n",
    "        self.items = [None] * 10  # Inicializa a lista com 10 posições, todas definidas como None\n",
    "        self.numItems = 0  # Inicializa o contador de itens com 0\n",
    "        for item in contents:\n",
    "            self.add(item)  # Adiciona os itens iniciais ao conjunto\n",
    "\n",
    "    def add(self, item):\n",
    "        \"\"\"\n",
    "        Adiciona um item à tabela hash.\n",
    "        \n",
    "        :param item: item a ser adicionado\n",
    "        \"\"\"\n",
    "        if self.__add(item, self.items):\n",
    "            self.numItems += 1\n",
    "            load = self.numItems / len(self.items)\n",
    "            if load >= 0.75:\n",
    "                self.items = self.__rehash(self.items, [None] * 2 * len(self.items))\n",
    "\n",
    "    @staticmethod\n",
    "    def __add(item, items):\n",
    "        \"\"\"\n",
    "        Função estática para adicionar um item a uma lista de itens com tratamento de colisão.\n",
    "\n",
    "        :param item: item a ser adicionado\n",
    "        :param items: lista de itens\n",
    "        :return: True se o item foi adicionado, False se o item já estava na lista\n",
    "        \"\"\"\n",
    "        idx = hash(item) % len(items)  # Calcula o índice usando o código hash e o operador mod\n",
    "        loc = -1  # Inicializa a variável loc para rastrear posições de placeholders\n",
    "        while items[idx] is not None:\n",
    "            if items[idx] == item:\n",
    "                return False  # Item já está no conjunto\n",
    "            if loc < 0 and isinstance(items[idx], HashSet.__Placeholder):\n",
    "                loc = idx  # Marca a posição do placeholder\n",
    "            idx = (idx + 1) % len(items)  # Avança para o próximo índice (linear probing)\n",
    "\n",
    "        if loc < 0:\n",
    "            loc = idx  # Define a posição de inserção como o índice atual se nenhum placeholder foi encontrado\n",
    "        items[loc] = item  # Insere o item na posição determinada\n",
    "        return True"
   ]
  },
  {
   "attachments": {},
   "cell_type": "markdown",
   "metadata": {},
   "source": [
    "**Função Estática de Rehash (rehash)**\n",
    "\n",
    "Se a taxa de ocupação exceder 75%,  precisamos aumentar o tamanho da lista e redistribuir os itens. \n",
    "\n",
    "A função __rehash percorre a lista antiga e refaz o hash de cada item não-nulo e que não seja um placeholder na nova lista.\n"
   ]
  },
  {
   "cell_type": "code",
   "execution_count": 18,
   "metadata": {},
   "outputs": [],
   "source": [
    "class HashSet:\n",
    "    class __Placeholder:\n",
    "        def __init__(self):\n",
    "            pass\n",
    "\n",
    "        def __eq__(self, other):\n",
    "            return False\n",
    "\n",
    "    def __init__(self, contents=[]):\n",
    "        \"\"\"\n",
    "        Inicializa a tabela hash.\n",
    "\n",
    "        :param contents: lista opcional de itens para inicializar o HashSet\n",
    "        \"\"\"\n",
    "        self.items = [None] * 10  # Inicializa a lista com 10 posições, todas definidas como None\n",
    "        self.numItems = 0  # Inicializa o contador de itens com 0\n",
    "        for item in contents:\n",
    "            self.add(item)  # Adiciona os itens iniciais ao conjunto\n",
    "\n",
    "    def add(self, item):\n",
    "        \"\"\"\n",
    "        Adiciona um item à tabela hash.\n",
    "        \n",
    "        :param item: item a ser adicionado\n",
    "        \"\"\"\n",
    "        if self.__add(item, self.items):\n",
    "            self.numItems += 1\n",
    "            load = self.numItems / len(self.items)\n",
    "            if load >= 0.75:\n",
    "                self.items = self.__rehash(self.items, [None] * 2 * len(self.items))\n",
    "\n",
    "    @staticmethod\n",
    "    def __add(item, items):\n",
    "        \"\"\"\n",
    "        Função estática para adicionar um item a uma lista de itens com tratamento de colisão.\n",
    "\n",
    "        :param item: item a ser adicionado\n",
    "        :param items: lista de itens\n",
    "        :return: True se o item foi adicionado, False se o item já estava na lista\n",
    "        \"\"\"\n",
    "        idx = hash(item) % len(items)  # Calcula o índice usando o código hash e o operador mod\n",
    "        loc = -1  # Inicializa a variável loc para rastrear posições de placeholders\n",
    "        while items[idx] is not None:\n",
    "            if items[idx] == item:\n",
    "                return False  # Item já está no conjunto\n",
    "            if loc < 0 and isinstance(items[idx], HashSet.__Placeholder):\n",
    "                loc = idx  # Marca a posição do placeholder\n",
    "            idx = (idx + 1) % len(items)  # Avança para o próximo índice (linear probing)\n",
    "\n",
    "        if loc < 0:\n",
    "            loc = idx  # Define a posição de inserção como o índice atual se nenhum placeholder foi encontrado\n",
    "        items[loc] = item  # Insere o item na posição determinada\n",
    "        return True\n",
    "\n",
    "    @staticmethod\n",
    "    def __rehash(oldList, newList):\n",
    "        \"\"\"\n",
    "        Re-hash dos itens de uma lista antiga para uma nova lista.\n",
    "\n",
    "        :param oldList: lista antiga de itens\n",
    "        :param newList: nova lista de itens\n",
    "        :return: nova lista com itens re-hashados\n",
    "        \"\"\"\n",
    "        for x in oldList:\n",
    "            if x is not None and not isinstance(x, HashSet.__Placeholder):\n",
    "                HashSet.__add(x, newList)  # Adiciona os itens não-nulos e não-placeholders à nova lista\n",
    "        return newList"
   ]
  },
  {
   "attachments": {},
   "cell_type": "markdown",
   "metadata": {},
   "source": [
    "**Excluindo um Item**\r\n",
    "\n",
    "Para excluir um item, precisamos encontrar sua posição na lista. Se o item estiver no meio de uma cadeia, substituímos pelo objeto ` __Placeholde`r.\r\n"
   ]
  },
  {
   "cell_type": "code",
   "execution_count": 19,
   "metadata": {},
   "outputs": [],
   "source": [
    "class HashSet:\n",
    "    class __Placeholder:\n",
    "        def __init__(self):\n",
    "            pass\n",
    "\n",
    "        def __eq__(self, other):\n",
    "            return False\n",
    "\n",
    "    def __init__(self, contents=[]):\n",
    "        \"\"\"\n",
    "        Inicializa a tabela hash.\n",
    "\n",
    "        :param contents: lista opcional de itens para inicializar o HashSet\n",
    "        \"\"\"\n",
    "        self.items = [None] * 10  # Inicializa a lista com 10 posições, todas definidas como None\n",
    "        self.numItems = 0  # Inicializa o contador de itens com 0\n",
    "        for item in contents:\n",
    "            self.add(item)  # Adiciona os itens iniciais ao conjunto\n",
    "\n",
    "    def add(self, item):\n",
    "        \"\"\"\n",
    "        Adiciona um item à tabela hash.\n",
    "        \n",
    "        :param item: item a ser adicionado\n",
    "        \"\"\"\n",
    "        if self.__add(item, self.items):\n",
    "            self.numItems += 1\n",
    "            load = self.numItems / len(self.items)\n",
    "            if load >= 0.75:\n",
    "                self.items = self.__rehash(self.items, [None] * 2 * len(self.items))\n",
    "\n",
    "    @staticmethod\n",
    "    def __add(item, items):\n",
    "        \"\"\"\n",
    "        Função estática para adicionar um item a uma lista de itens com tratamento de colisão.\n",
    "\n",
    "        :param item: item a ser adicionado\n",
    "        :param items: lista de itens\n",
    "        :return: True se o item foi adicionado, False se o item já estava na lista\n",
    "        \"\"\"\n",
    "        idx = hash(item) % len(items)  # Calcula o índice usando o código hash e o operador mod\n",
    "        loc = -1  # Inicializa a variável loc para rastrear posições de placeholders\n",
    "        while items[idx] is not None:\n",
    "            if items[idx] == item:\n",
    "                return False  # Item já está no conjunto\n",
    "            if loc < 0 and isinstance(items[idx], HashSet.__Placeholder):\n",
    "                loc = idx  # Marca a posição do placeholder\n",
    "            idx = (idx + 1) % len(items)  # Avança para o próximo índice (linear probing)\n",
    "\n",
    "        if loc < 0:\n",
    "            loc = idx  # Define a posição de inserção como o índice atual se nenhum placeholder foi encontrado\n",
    "        items[loc] = item  # Insere o item na posição determinada\n",
    "        return True\n",
    "\n",
    "    @staticmethod\n",
    "    def __rehash(oldList, newList):\n",
    "        \"\"\"\n",
    "        Re-hash dos itens de uma lista antiga para uma nova lista.\n",
    "\n",
    "        :param oldList: lista antiga de itens\n",
    "        :param newList: nova lista de itens\n",
    "        :return: nova lista com itens re-hashados\n",
    "        \"\"\"\n",
    "        for x in oldList:\n",
    "            if x is not None and not isinstance(x, HashSet.__Placeholder):\n",
    "                HashSet.__add(x, newList)  # Adiciona os itens não-nulos e não-placeholders à nova lista\n",
    "        return newList\n",
    "\n",
    "    def remove(self, item):\n",
    "        \"\"\"\n",
    "        Remove um item da tabela hash.\n",
    "\n",
    "        :param item: item a ser removido\n",
    "        :raises KeyError: se o item não estiver na tabela\n",
    "        \"\"\"\n",
    "        if HashSet.__remove(item, self.items):\n",
    "            self.numItems -= 1\n",
    "            load = max(self.numItems, 10) / len(self.items)\n",
    "            if load <= 0.25:\n",
    "                self.items = HashSet.__rehash(self.items, [None] * int(len(self.items) / 2))\n",
    "        else:\n",
    "            raise KeyError(\"Item não está no HashSet\")\n",
    "\n",
    "    @staticmethod\n",
    "    def __remove(item, items):\n",
    "        \"\"\"\n",
    "        Função estática para remover um item de uma lista de itens.\n",
    "\n",
    "        :param item: item a ser removido\n",
    "        :param items: lista de itens\n",
    "        :return: True se o item foi removido, False se o item não estava na lista\n",
    "        \"\"\"\n",
    "        idx = hash(item) % len(items)\n",
    "        while items[idx] is not None:\n",
    "            if items[idx] == item:\n",
    "                nextIdx = (idx + 1) % len(items)\n",
    "                if items[nextIdx] is None:\n",
    "                    items[idx] = None\n",
    "                else:\n",
    "                    items[idx] = HashSet.__Placeholder()\n",
    "                return True\n",
    "            idx = (idx + 1) % len(items)\n",
    "        return False"
   ]
  },
  {
   "cell_type": "markdown",
   "metadata": {},
   "source": [
    "**Encontrando um Item**\n",
    "\n",
    "Para encontrar um item, usamos o método **_ _contains_ _** que verifica se o item está na lista."
   ]
  },
  {
   "cell_type": "code",
   "execution_count": 20,
   "metadata": {},
   "outputs": [],
   "source": [
    "class HashSet:\n",
    "    class __Placeholder:\n",
    "        def __init__(self):\n",
    "            pass\n",
    "\n",
    "        def __eq__(self, other):\n",
    "            return False\n",
    "\n",
    "    def __init__(self, contents=[]):\n",
    "        \"\"\"\n",
    "        Inicializa a tabela hash.\n",
    "\n",
    "        :param contents: lista opcional de itens para inicializar o HashSet\n",
    "        \"\"\"\n",
    "        self.items = [None] * 10  # Inicializa a lista com 10 posições, todas definidas como None\n",
    "        self.numItems = 0  # Inicializa o contador de itens com 0\n",
    "        for item in contents:\n",
    "            self.add(item)  # Adiciona os itens iniciais ao conjunto\n",
    "\n",
    "    def add(self, item):\n",
    "        \"\"\"\n",
    "        Adiciona um item à tabela hash.\n",
    "        \n",
    "        :param item: item a ser adicionado\n",
    "        \"\"\"\n",
    "        if self.__add(item, self.items):\n",
    "            self.numItems += 1\n",
    "            load = self.numItems / len(self.items)\n",
    "            if load >= 0.75:\n",
    "                self.items = self.__rehash(self.items, [None] * 2 * len(self.items))\n",
    "\n",
    "    @staticmethod\n",
    "    def __add(item, items):\n",
    "        \"\"\"\n",
    "        Função estática para adicionar um item a uma lista de itens com tratamento de colisão.\n",
    "\n",
    "        :param item: item a ser adicionado\n",
    "        :param items: lista de itens\n",
    "        :return: True se o item foi adicionado, False se o item já estava na lista\n",
    "        \"\"\"\n",
    "        idx = hash(item) % len(items)  # Calcula o índice usando o código hash e o operador mod\n",
    "        loc = -1  # Inicializa a variável loc para rastrear posições de placeholders\n",
    "        while items[idx] is not None:\n",
    "            if items[idx] == item:\n",
    "                return False  # Item já está no conjunto\n",
    "            if loc < 0 and isinstance(items[idx], HashSet.__Placeholder):\n",
    "                loc = idx  # Marca a posição do placeholder\n",
    "            idx = (idx + 1) % len(items)  # Avança para o próximo índice (linear probing)\n",
    "\n",
    "        if loc < 0:\n",
    "            loc = idx  # Define a posição de inserção como o índice atual se nenhum placeholder foi encontrado\n",
    "        items[loc] = item  # Insere o item na posição determinada\n",
    "        return True\n",
    "\n",
    "    @staticmethod\n",
    "    def __rehash(oldList, newList):\n",
    "        \"\"\"\n",
    "        Re-hash dos itens de uma lista antiga para uma nova lista.\n",
    "\n",
    "        :param oldList: lista antiga de itens\n",
    "        :param newList: nova lista de itens\n",
    "        :return: nova lista com itens re-hashados\n",
    "        \"\"\"\n",
    "        for x in oldList:\n",
    "            if x is not None and not isinstance(x, HashSet.__Placeholder):\n",
    "                HashSet.__add(x, newList)  # Adiciona os itens não-nulos e não-placeholders à nova lista\n",
    "        return newList\n",
    "\n",
    "    def remove(self, item):\n",
    "        \"\"\"\n",
    "        Remove um item da tabela hash.\n",
    "\n",
    "        :param item: item a ser removido\n",
    "        :raises KeyError: se o item não estiver na tabela\n",
    "        \"\"\"\n",
    "        if HashSet.__remove(item, self.items):\n",
    "            self.numItems -= 1\n",
    "            load = max(self.numItems, 10) / len(self.items)\n",
    "            if load <= 0.25:\n",
    "                self.items = HashSet.__rehash(self.items, [None] * int(len(self.items) / 2))\n",
    "        else:\n",
    "            raise KeyError(\"Item não está no HashSet\")\n",
    "\n",
    "    @staticmethod\n",
    "    def __remove(item, items):\n",
    "        \"\"\"\n",
    "        Função estática para remover um item de uma lista de itens.\n",
    "\n",
    "        :param item: item a ser removido\n",
    "        :param items: lista de itens\n",
    "        :return: True se o item foi removido, False se o item não estava na lista\n",
    "        \"\"\"\n",
    "        idx = hash(item) % len(items)\n",
    "        while items[idx] is not None:\n",
    "            if items[idx] == item:\n",
    "                nextIdx = (idx + 1) % len(items)\n",
    "                if items[nextIdx] is None:\n",
    "                    items[idx] = None\n",
    "                else:\n",
    "                    items[idx] = HashSet.__Placeholder()\n",
    "                return True\n",
    "            idx = (idx + 1) % len(items)\n",
    "        return False\n",
    "\n",
    "    def __contains__(self, item):\n",
    "        \"\"\"\n",
    "        Verifica se o item está na tabela hash.\n",
    "\n",
    "        :param item: item a ser verificado\n",
    "        :return: True se o item está na tabela, False caso contrário\n",
    "        \"\"\"\n",
    "        idx = hash(item) % len(self.items)\n",
    "        while self.items[idx] is not None:\n",
    "            if self.items[idx] == item:\n",
    "                return True\n",
    "            idx = (idx + 1) % len(self.items)\n",
    "        return False\n"
   ]
  },
  {
   "cell_type": "markdown",
   "metadata": {},
   "source": [
    "**Iterando Sobre os Itens**\n",
    "\n",
    "Para iterar sobre os itens do conjunto, definimos o método **_ _iter_ _** que percorre a lista de itens."
   ]
  },
  {
   "cell_type": "code",
   "execution_count": 21,
   "metadata": {},
   "outputs": [],
   "source": [
    "class HashSet:\n",
    "    class __Placeholder:\n",
    "        def __init__(self):\n",
    "            pass\n",
    "\n",
    "        def __eq__(self, other):\n",
    "            return False\n",
    "\n",
    "    def __init__(self, contents=[]):\n",
    "        \"\"\"\n",
    "        Inicializa a tabela hash.\n",
    "\n",
    "        :param contents: lista opcional de itens para inicializar o HashSet\n",
    "        \"\"\"\n",
    "        self.items = [None] * 10  # Inicializa a lista com 10 posições, todas definidas como None\n",
    "        self.numItems = 0  # Inicializa o contador de itens com 0\n",
    "        for item in contents:\n",
    "            self.add(item)  # Adiciona os itens iniciais ao conjunto\n",
    "\n",
    "    def add(self, item):\n",
    "        \"\"\"\n",
    "        Adiciona um item à tabela hash.\n",
    "        \n",
    "        :param item: item a ser adicionado\n",
    "        \"\"\"\n",
    "        if self.__add(item, self.items):\n",
    "            self.numItems += 1\n",
    "            load = self.numItems / len(self.items)\n",
    "            if load >= 0.75:\n",
    "                self.items = self.__rehash(self.items, [None] * 2 * len(self.items))\n",
    "\n",
    "    @staticmethod\n",
    "    def __add(item, items):\n",
    "        \"\"\"\n",
    "        Função estática para adicionar um item a uma lista de itens com tratamento de colisão.\n",
    "\n",
    "        :param item: item a ser adicionado\n",
    "        :param items: lista de itens\n",
    "        :return: True se o item foi adicionado, False se o item já estava na lista\n",
    "        \"\"\"\n",
    "        idx = hash(item) % len(items)  # Calcula o índice usando o código hash e o operador mod\n",
    "        loc = -1  # Inicializa a variável loc para rastrear posições de placeholders\n",
    "        while items[idx] is not None:\n",
    "            if items[idx] == item:\n",
    "                return False  # Item já está no conjunto\n",
    "            if loc < 0 and isinstance(items[idx], HashSet.__Placeholder):\n",
    "                loc = idx  # Marca a posição do placeholder\n",
    "            idx = (idx + 1) % len(items)  # Avança para o próximo índice (linear probing)\n",
    "\n",
    "        if loc < 0:\n",
    "            loc = idx  # Define a posição de inserção como o índice atual se nenhum placeholder foi encontrado\n",
    "        items[loc] = item  # Insere o item na posição determinada\n",
    "        return True\n",
    "\n",
    "    @staticmethod\n",
    "    def __rehash(oldList, newList):\n",
    "        \"\"\"\n",
    "        Re-hash dos itens de uma lista antiga para uma nova lista.\n",
    "\n",
    "        :param oldList: lista antiga de itens\n",
    "        :param newList: nova lista de itens\n",
    "        :return: nova lista com itens re-hashados\n",
    "        \"\"\"\n",
    "        for x in oldList:\n",
    "            if x is not None and not isinstance(x, HashSet.__Placeholder):\n",
    "                HashSet.__add(x, newList)  # Adiciona os itens não-nulos e não-placeholders à nova lista\n",
    "        return newList\n",
    "\n",
    "    def remove(self, item):\n",
    "        \"\"\"\n",
    "        Remove um item da tabela hash.\n",
    "\n",
    "        :param item: item a ser removido\n",
    "        :raises KeyError: se o item não estiver na tabela\n",
    "        \"\"\"\n",
    "        if HashSet.__remove(item, self.items):\n",
    "            self.numItems -= 1\n",
    "            load = max(self.numItems, 10) / len(self.items)\n",
    "            if load <= 0.25:\n",
    "                self.items = HashSet.__rehash(self.items, [None] * int(len(self.items) / 2))\n",
    "        else:\n",
    "            raise KeyError(\"Item não está no HashSet\")\n",
    "\n",
    "    @staticmethod\n",
    "    def __remove(item, items):\n",
    "        \"\"\"\n",
    "        Função estática para remover um item de uma lista de itens.\n",
    "\n",
    "        :param item: item a ser removido\n",
    "        :param items: lista de itens\n",
    "        :return: True se o item foi removido, False se o item não estava na lista\n",
    "        \"\"\"\n",
    "        idx = hash(item) % len(items)\n",
    "        while items[idx] is not None:\n",
    "            if items[idx] == item:\n",
    "                nextIdx = (idx + 1) % len(items)\n",
    "                if items[nextIdx] is None:\n",
    "                    items[idx] = None\n",
    "                else:\n",
    "                    items[idx] = HashSet.__Placeholder()\n",
    "                return True\n",
    "            idx = (idx + 1) % len(items)\n",
    "        return False\n",
    "\n",
    "    def __contains__(self, item):\n",
    "        \"\"\"\n",
    "        Verifica se o item está na tabela hash.\n",
    "\n",
    "        :param item: item a ser verificado\n",
    "        :return: True se o item está na tabela, False caso contrário\n",
    "        \"\"\"\n",
    "        idx = hash(item) % len(self.items)\n",
    "        while self.items[idx] is not None:\n",
    "            if self.items[idx] == item:\n",
    "                return True\n",
    "            idx = (idx + 1) % len(self.items)\n",
    "        return False\n",
    "\n",
    "    def __iter__(self):\n",
    "        \"\"\"\n",
    "        Itera sobre os itens na tabela hash.\n",
    "\n",
    "        :yield: próximo item na tabela\n",
    "        \"\"\"\n",
    "        for i in range(len(self.items)):\n",
    "            if self.items[i] is not None and not isinstance(self.items[i], HashSet.__Placeholder):\n",
    "                yield self.items[i]"
   ]
  },
  {
   "cell_type": "markdown",
   "metadata": {},
   "source": [
    "#### Exemplo de Uso\n",
    "\n",
    "Vamos ver um exemplo de uso da classe HashSet:"
   ]
  },
  {
   "cell_type": "code",
   "execution_count": 22,
   "metadata": {},
   "outputs": [],
   "source": [
    "# Criando um HashSet com alguns itens iniciais\n",
    "hash_set = HashSet([1, 2, 3])"
   ]
  },
  {
   "cell_type": "code",
   "execution_count": 23,
   "metadata": {},
   "outputs": [],
   "source": [
    "# Adicionando itens ao HashSet\n",
    "hash_set.add(4)\n",
    "hash_set.add(5)"
   ]
  },
  {
   "cell_type": "code",
   "execution_count": 24,
   "metadata": {},
   "outputs": [
    {
     "name": "stdout",
     "output_type": "stream",
     "text": [
      "[1, 2, 3, 4, 5]\n"
     ]
    }
   ],
   "source": [
    "# Exibindo os itens do HashSet\n",
    "print(list(hash_set))"
   ]
  },
  {
   "cell_type": "code",
   "execution_count": 25,
   "metadata": {},
   "outputs": [],
   "source": [
    "# Tentando adicionar um item duplicado\n",
    "hash_set.add(3)"
   ]
  },
  {
   "cell_type": "code",
   "execution_count": 27,
   "metadata": {},
   "outputs": [
    {
     "name": "stdout",
     "output_type": "stream",
     "text": [
      "[1, 2, 3, 4, 5]\n"
     ]
    }
   ],
   "source": [
    "# Exibindo os itens do HashSet\n",
    "print(list(hash_set))"
   ]
  },
  {
   "cell_type": "code",
   "execution_count": 26,
   "metadata": {},
   "outputs": [
    {
     "name": "stdout",
     "output_type": "stream",
     "text": [
      "5\n"
     ]
    }
   ],
   "source": [
    "# Exibindo o número de itens no HashSet\n",
    "print(hash_set.numItems)"
   ]
  },
  {
   "cell_type": "code",
   "execution_count": 28,
   "metadata": {},
   "outputs": [
    {
     "name": "stdout",
     "output_type": "stream",
     "text": [
      "[1, 2, 4, 5]\n"
     ]
    }
   ],
   "source": [
    "# Removendo um item\n",
    "hash_set.remove(3)\n",
    "print(list(hash_set))"
   ]
  },
  {
   "cell_type": "code",
   "execution_count": 29,
   "metadata": {},
   "outputs": [
    {
     "name": "stdout",
     "output_type": "stream",
     "text": [
      "True\n"
     ]
    }
   ],
   "source": [
    "# Verificando se um item está no HashSet\n",
    "print(2 in hash_set) "
   ]
  },
  {
   "cell_type": "code",
   "execution_count": 30,
   "metadata": {},
   "outputs": [
    {
     "name": "stdout",
     "output_type": "stream",
     "text": [
      "False\n"
     ]
    }
   ],
   "source": [
    "# Verificando se um item está no HashSet\n",
    "print(3 in hash_set)"
   ]
  },
  {
   "cell_type": "code",
   "execution_count": 31,
   "metadata": {},
   "outputs": [
    {
     "name": "stdout",
     "output_type": "stream",
     "text": [
      "1\n",
      "2\n",
      "4\n",
      "5\n"
     ]
    }
   ],
   "source": [
    "# Iterando sobre os itens do HashSet\n",
    "for item in hash_set:\n",
    "    print(item)"
   ]
  },
  {
   "cell_type": "markdown",
   "metadata": {},
   "source": [
    "A implementação de uma tabela hash em Python envolve a criação de uma função hash eficiente e métodos para inserção, busca e exclusão de elementos. \n",
    "\n",
    "O tratamento de colisões é essencial para garantir que a tabela funcione corretamente em casos onde múltiplas chaves geram o mesmo índice. \n",
    "\n",
    "Embora existam várias técnicas avançadas para tratamento de colisões e otimização do desempenho da tabela hash, a implementação básica apresentada aqui é suficiente para fornecer uma noção inicial sobre o funcionamento dessas estruturas."
   ]
  },
  {
   "cell_type": "markdown",
   "metadata": {},
   "source": [
    "## Fim da Aula 17"
   ]
  }
 ],
 "metadata": {
  "colab": {
   "provenance": []
  },
  "kernelspec": {
   "display_name": "Python 3 (ipykernel)",
   "language": "python",
   "name": "python3"
  },
  "language_info": {
   "codemirror_mode": {
    "name": "ipython",
    "version": 3
   },
   "file_extension": ".py",
   "mimetype": "text/x-python",
   "name": "python",
   "nbconvert_exporter": "python",
   "pygments_lexer": "ipython3",
   "version": "3.12.4"
  }
 },
 "nbformat": 4,
 "nbformat_minor": 4
}

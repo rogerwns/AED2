{
 "cells": [
  {
   "cell_type": "code",
   "execution_count": 1,
   "id": "09138bd6-14d3-4a53-8486-34ef085ea09d",
   "metadata": {},
   "outputs": [
    {
     "ename": "ModuleNotFoundError",
     "evalue": "No module named 'Pilha'",
     "output_type": "error",
     "traceback": [
      "\u001b[1;31m---------------------------------------------------------------------------\u001b[0m",
      "\u001b[1;31mModuleNotFoundError\u001b[0m                       Traceback (most recent call last)",
      "Cell \u001b[1;32mIn[1], line 1\u001b[0m\n\u001b[1;32m----> 1\u001b[0m \u001b[38;5;28;01mfrom\u001b[39;00m \u001b[38;5;21;01mPilha\u001b[39;00m \u001b[38;5;28;01mimport\u001b[39;00m Stack\n\u001b[0;32m      2\u001b[0m \u001b[38;5;28;01mdef\u001b[39;00m \u001b[38;5;21mdecimal2binario\u001b[39m(decimal):\n\u001b[0;32m      3\u001b[0m     p \u001b[38;5;241m=\u001b[39m Stack()   \n",
      "\u001b[1;31mModuleNotFoundError\u001b[0m: No module named 'Pilha'"
     ]
    }
   ],
   "source": [
    "from Pilha import Stack\n",
    "def decimal2binario(decimal):\n",
    "    p = Stack()   \n",
    "    while decimal > 0:\n",
    "        resto = decimal % 2\n",
    "        p.push(resto)\n",
    "        decimal = decimal // 2\n",
    "\n",
    "    binario = ''\n",
    "    while not p.is_empty():\n",
    "        binario = binario + str(p.pop())\n",
    "        \n",
    "    return binario\n"
   ]
  },
  {
   "cell_type": "code",
   "execution_count": null,
   "id": "d862f181-9690-40ca-9605-22b149eac995",
   "metadata": {},
   "outputs": [],
   "source": [
    "valor = int(input(\"Digite o valor decimal: \"))\n",
    "print(f\"O valor {valor} em binário é {decimal2binario(valor)}\")\n"
   ]
  },
  {
   "cell_type": "code",
   "execution_count": null,
   "id": "ae55bcca-2e7e-4b2a-acfd-50b3bfaae49d",
   "metadata": {},
   "outputs": [],
   "source": []
  }
 ],
 "metadata": {
  "kernelspec": {
   "display_name": "Python 3 (ipykernel)",
   "language": "python",
   "name": "python3"
  },
  "language_info": {
   "codemirror_mode": {
    "name": "ipython",
    "version": 3
   },
   "file_extension": ".py",
   "mimetype": "text/x-python",
   "name": "python",
   "nbconvert_exporter": "python",
   "pygments_lexer": "ipython3",
   "version": "3.12.4"
  }
 },
 "nbformat": 4,
 "nbformat_minor": 5
}
